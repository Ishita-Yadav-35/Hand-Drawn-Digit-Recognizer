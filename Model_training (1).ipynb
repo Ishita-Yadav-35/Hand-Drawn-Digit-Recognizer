{
  "nbformat": 4,
  "nbformat_minor": 0,
  "metadata": {
    "colab": {
      "name": "Minor-Project.ipynb",
      "provenance": [],
      "collapsed_sections": []
    },
    "kernelspec": {
      "name": "python3",
      "display_name": "Python 3"
    },
    "language_info": {
      "name": "python"
    }
  },
  "cells": [
    {
      "cell_type": "code",
      "metadata": {
        "id": "4iCu9NycZ0tl"
      },
      "source": [
        "from tensorflow import keras"
      ],
      "execution_count": null,
      "outputs": []
    },
    {
      "cell_type": "code",
      "metadata": {
        "id": "eE-dqQM7dRmC"
      },
      "source": [
        "(x_train, y_train), (x_test, y_test) = keras.datasets.mnist.load_data(path=\"mnist.npz\")"
      ],
      "execution_count": null,
      "outputs": []
    },
    {
      "cell_type": "code",
      "metadata": {
        "id": "RBFUXB-Hde1S",
        "colab": {
          "base_uri": "https://localhost:8080/"
        },
        "outputId": "3b4307c8-6f21-43f9-a3c3-794632f21a1a"
      },
      "source": [
        "print(x_train.shape,y_train.shape)\n",
        "print(x_test.shape,y_test.shape)"
      ],
      "execution_count": null,
      "outputs": [
        {
          "output_type": "stream",
          "text": [
            "(60000, 28, 28) (60000,)\n",
            "(10000, 28, 28) (10000,)\n"
          ],
          "name": "stdout"
        }
      ]
    },
    {
      "cell_type": "code",
      "metadata": {
        "colab": {
          "base_uri": "https://localhost:8080/",
          "height": 282
        },
        "id": "dy5aUxrsfqRr",
        "outputId": "ec8cad7a-a44e-4c4b-de18-ac903f4c3557"
      },
      "source": [
        "import matplotlib.pyplot as plt\n",
        "i=8888\n",
        "plt.imshow(x_train[i],cmap='gray')\n",
        "print(y_train[i])"
      ],
      "execution_count": null,
      "outputs": [
        {
          "output_type": "stream",
          "text": [
            "3\n"
          ],
          "name": "stdout"
        },
        {
          "output_type": "display_data",
          "data": {
            "image/png": "[encoded data removed]",
            "text/plain": [
              "<Figure size 432x288 with 1 Axes>"
            ]
          },
          "metadata": {
            "tags": [],
            "needs_background": "light"
          }
        }
      ]
    },
    {
      "cell_type": "code",
      "metadata": {
        "id": "zJaQAtFFtvKA"
      },
      "source": [
        "x_train = x_train.reshape(x_train.shape[0], 28, 28, 1)\n",
        "x_test = x_test.reshape(x_test.shape[0], 28, 28, 1)\n",
        "input_shape = (28, 28, 1)\n",
        "\n",
        "x_train = x_train.astype('float32')\n",
        "x_test = x_test.astype('float32')\n",
        "x_train /= 255\n",
        "x_test /= 255"
      ],
      "execution_count": null,
      "outputs": []
    },
    {
      "cell_type": "code",
      "metadata": {
        "id": "J_-vE6G-v1AR"
      },
      "source": [
        "y_train = keras.utils.to_categorical(y_train, 10)\n",
        "y_test = keras.utils.to_categorical(y_test, 10)"
      ],
      "execution_count": null,
      "outputs": []
    },
    {
      "cell_type": "code",
      "metadata": {
        "id": "oalVU_CYiTp6"
      },
      "source": [
        "model = keras.Sequential()\n",
        "model.add(keras.layers.Flatten())\n",
        "model.add(keras.layers.Dense(500,input_dim=500, kernel_initializer='normal', activation='relu'))\n",
        "model.add(keras.layers.Dense(10,kernel_initializer='normal', activation='softmax'))"
      ],
      "execution_count": null,
      "outputs": []
    },
    {
      "cell_type": "code",
      "metadata": {
        "id": "pYq0toqwiq99"
      },
      "source": [
        "model.compile(loss=\"categorical_crossentropy\",optimizer='Adam',metrics=['accuracy'])"
      ],
      "execution_count": null,
      "outputs": []
    },
    {
      "cell_type": "code",
      "metadata": {
        "colab": {
          "base_uri": "https://localhost:8080/"
        },
        "id": "I6aml6euiwj3",
        "outputId": "36e30347-5f27-43cb-90fb-eecb23864808"
      },
      "source": [
        "history = model.fit(x_train, y_train,validation_data=(x_test,y_test), epochs=10, batch_size=200, verbose=2)"
      ],
      "execution_count": null,
      "outputs": [
        {
          "output_type": "stream",
          "text": [
            "Epoch 1/10\n",
            "300/300 - 3s - loss: 0.3175 - accuracy: 0.9122 - val_loss: 0.1583 - val_accuracy: 0.9547\n",
            "Epoch 2/10\n",
            "300/300 - 2s - loss: 0.1306 - accuracy: 0.9629 - val_loss: 0.1072 - val_accuracy: 0.9685\n",
            "Epoch 3/10\n",
            "300/300 - 2s - loss: 0.0881 - accuracy: 0.9746 - val_loss: 0.0886 - val_accuracy: 0.9746\n",
            "Epoch 4/10\n",
            "300/300 - 2s - loss: 0.0651 - accuracy: 0.9811 - val_loss: 0.0753 - val_accuracy: 0.9774\n",
            "Epoch 5/10\n",
            "300/300 - 2s - loss: 0.0483 - accuracy: 0.9866 - val_loss: 0.0758 - val_accuracy: 0.9769\n",
            "Epoch 6/10\n",
            "300/300 - 2s - loss: 0.0377 - accuracy: 0.9895 - val_loss: 0.0656 - val_accuracy: 0.9791\n",
            "Epoch 7/10\n",
            "300/300 - 2s - loss: 0.0290 - accuracy: 0.9923 - val_loss: 0.0650 - val_accuracy: 0.9793\n",
            "Epoch 8/10\n",
            "300/300 - 2s - loss: 0.0233 - accuracy: 0.9943 - val_loss: 0.0628 - val_accuracy: 0.9810\n",
            "Epoch 9/10\n",
            "300/300 - 2s - loss: 0.0186 - accuracy: 0.9953 - val_loss: 0.0615 - val_accuracy: 0.9822\n",
            "Epoch 10/10\n",
            "300/300 - 2s - loss: 0.0131 - accuracy: 0.9974 - val_loss: 0.0649 - val_accuracy: 0.9810\n"
          ],
          "name": "stdout"
        }
      ]
    },
    {
      "cell_type": "code",
      "metadata": {
        "colab": {
          "base_uri": "https://localhost:8080/"
        },
        "id": "WnIsK_m_izWj",
        "outputId": "90a5bc3d-8b57-4614-ebf1-f43a50411a62"
      },
      "source": [
        "import numpy as np\n",
        "y_pred = model.predict(x_test)\n",
        "y_pred = np.argmax(y_pred,axis=1)\n",
        "y_pred"
      ],
      "execution_count": null,
      "outputs": [
        {
          "output_type": "execute_result",
          "data": {
            "text/plain": [
              "array([7, 2, 1, ..., 4, 5, 6])"
            ]
          },
          "metadata": {
            "tags": []
          },
          "execution_count": 10
        }
      ]
    },
    {
      "cell_type": "code",
      "metadata": {
        "id": "egllUMGhjQt-"
      },
      "source": [
        "model.save(\"Digit_Recognizer.hdf5\")"
      ],
      "execution_count": null,
      "outputs": []
    },
    {
      "cell_type": "code",
      "metadata": {
        "colab": {
          "base_uri": "https://localhost:8080/"
        },
        "id": "Trw2MW7R_orx",
        "outputId": "a25c18b4-6fb3-46ae-cce3-93a3d127f5c9"
      },
      "source": [
        "model.evaluate(x_test, y_test)"
      ],
      "execution_count": null,
      "outputs": [
        {
          "output_type": "stream",
          "text": [
            "313/313 [==============================] - 1s 2ms/step - loss: 0.0649 - accuracy: 0.9810\n"
          ],
          "name": "stdout"
        },
        {
          "output_type": "execute_result",
          "data": {
            "text/plain": [
              "[0.06492557376623154, 0.9810000061988831]"
            ]
          },
          "metadata": {
            "tags": []
          },
          "execution_count": 12
        }
      ]
    },
    {
      "cell_type": "code",
      "metadata": {
        "id": "nW__B__KY9i8"
      },
      "source": [
        ""
      ],
      "execution_count": null,
      "outputs": []
    }
  ]
}